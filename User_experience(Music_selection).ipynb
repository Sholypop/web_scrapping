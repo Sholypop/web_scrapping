{
 "cells": [
  {
   "cell_type": "code",
   "execution_count": 62,
   "id": "897c0e2f",
   "metadata": {},
   "outputs": [],
   "source": [
    "import pandas as pd\n",
    "import numpy as np"
   ]
  },
  {
   "cell_type": "code",
   "execution_count": 63,
   "id": "5e4ad5d4",
   "metadata": {},
   "outputs": [],
   "source": [
    "df = pd.read_csv('top100songs',sep='\\t')"
   ]
  },
  {
   "cell_type": "code",
   "execution_count": 64,
   "id": "1c6cff41",
   "metadata": {},
   "outputs": [
    {
     "data": {
      "text/html": [
       "<div>\n",
       "<style scoped>\n",
       "    .dataframe tbody tr th:only-of-type {\n",
       "        vertical-align: middle;\n",
       "    }\n",
       "\n",
       "    .dataframe tbody tr th {\n",
       "        vertical-align: top;\n",
       "    }\n",
       "\n",
       "    .dataframe thead th {\n",
       "        text-align: right;\n",
       "    }\n",
       "</style>\n",
       "<table border=\"1\" class=\"dataframe\">\n",
       "  <thead>\n",
       "    <tr style=\"text-align: right;\">\n",
       "      <th></th>\n",
       "      <th>Unnamed: 0</th>\n",
       "      <th>Song’s name</th>\n",
       "      <th>Song’s artist</th>\n",
       "    </tr>\n",
       "  </thead>\n",
       "  <tbody>\n",
       "    <tr>\n",
       "      <th>0</th>\n",
       "      <td>0</td>\n",
       "      <td>Flowers</td>\n",
       "      <td>Miley Cyrus</td>\n",
       "    </tr>\n",
       "    <tr>\n",
       "      <th>1</th>\n",
       "      <td>1</td>\n",
       "      <td>Kill Bill</td>\n",
       "      <td>SZA</td>\n",
       "    </tr>\n",
       "    <tr>\n",
       "      <th>2</th>\n",
       "      <td>2</td>\n",
       "      <td>Last Night</td>\n",
       "      <td>Morgan Wallen</td>\n",
       "    </tr>\n",
       "    <tr>\n",
       "      <th>3</th>\n",
       "      <td>3</td>\n",
       "      <td>Unholy</td>\n",
       "      <td>Sam Smith &amp; Kim Petras</td>\n",
       "    </tr>\n",
       "    <tr>\n",
       "      <th>4</th>\n",
       "      <td>4</td>\n",
       "      <td>Creepin'</td>\n",
       "      <td>Metro Boomin, The Weeknd &amp; 21 Savage</td>\n",
       "    </tr>\n",
       "    <tr>\n",
       "      <th>...</th>\n",
       "      <td>...</td>\n",
       "      <td>...</td>\n",
       "      <td>...</td>\n",
       "    </tr>\n",
       "    <tr>\n",
       "      <th>95</th>\n",
       "      <td>95</td>\n",
       "      <td>Yandel 150</td>\n",
       "      <td>Yandel &amp; Feid</td>\n",
       "    </tr>\n",
       "    <tr>\n",
       "      <th>96</th>\n",
       "      <td>96</td>\n",
       "      <td>Heart To Heart</td>\n",
       "      <td>Mac DeMarco</td>\n",
       "    </tr>\n",
       "    <tr>\n",
       "      <th>97</th>\n",
       "      <td>97</td>\n",
       "      <td>Next Thing You Know</td>\n",
       "      <td>Jordan Davis</td>\n",
       "    </tr>\n",
       "    <tr>\n",
       "      <th>98</th>\n",
       "      <td>98</td>\n",
       "      <td>Never Gonna Not Dance Again</td>\n",
       "      <td>P!nk</td>\n",
       "    </tr>\n",
       "    <tr>\n",
       "      <th>99</th>\n",
       "      <td>99</td>\n",
       "      <td>Open Arms</td>\n",
       "      <td>SZA Featuring Travis Scott</td>\n",
       "    </tr>\n",
       "  </tbody>\n",
       "</table>\n",
       "<p>100 rows × 3 columns</p>\n",
       "</div>"
      ],
      "text/plain": [
       "    Unnamed: 0                  Song’s name  \\\n",
       "0            0                      Flowers   \n",
       "1            1                    Kill Bill   \n",
       "2            2                   Last Night   \n",
       "3            3                       Unholy   \n",
       "4            4                     Creepin'   \n",
       "..         ...                          ...   \n",
       "95          95                   Yandel 150   \n",
       "96          96               Heart To Heart   \n",
       "97          97          Next Thing You Know   \n",
       "98          98  Never Gonna Not Dance Again   \n",
       "99          99                    Open Arms   \n",
       "\n",
       "                           Song’s artist  \n",
       "0                            Miley Cyrus  \n",
       "1                                    SZA  \n",
       "2                          Morgan Wallen  \n",
       "3                 Sam Smith & Kim Petras  \n",
       "4   Metro Boomin, The Weeknd & 21 Savage  \n",
       "..                                   ...  \n",
       "95                         Yandel & Feid  \n",
       "96                           Mac DeMarco  \n",
       "97                          Jordan Davis  \n",
       "98                                  P!nk  \n",
       "99            SZA Featuring Travis Scott  \n",
       "\n",
       "[100 rows x 3 columns]"
      ]
     },
     "execution_count": 64,
     "metadata": {},
     "output_type": "execute_result"
    }
   ],
   "source": [
    "df"
   ]
  },
  {
   "cell_type": "code",
   "execution_count": 65,
   "id": "9f7b23c5",
   "metadata": {},
   "outputs": [],
   "source": [
    "#dropping unwanted column\n",
    "df = df.drop('Unnamed: 0', axis=1)"
   ]
  },
  {
   "cell_type": "code",
   "execution_count": 66,
   "id": "020bcd87",
   "metadata": {},
   "outputs": [
    {
     "data": {
      "text/html": [
       "<div>\n",
       "<style scoped>\n",
       "    .dataframe tbody tr th:only-of-type {\n",
       "        vertical-align: middle;\n",
       "    }\n",
       "\n",
       "    .dataframe tbody tr th {\n",
       "        vertical-align: top;\n",
       "    }\n",
       "\n",
       "    .dataframe thead th {\n",
       "        text-align: right;\n",
       "    }\n",
       "</style>\n",
       "<table border=\"1\" class=\"dataframe\">\n",
       "  <thead>\n",
       "    <tr style=\"text-align: right;\">\n",
       "      <th></th>\n",
       "      <th>Song’s name</th>\n",
       "      <th>Song’s artist</th>\n",
       "    </tr>\n",
       "  </thead>\n",
       "  <tbody>\n",
       "    <tr>\n",
       "      <th>0</th>\n",
       "      <td>Flowers</td>\n",
       "      <td>Miley Cyrus</td>\n",
       "    </tr>\n",
       "    <tr>\n",
       "      <th>1</th>\n",
       "      <td>Kill Bill</td>\n",
       "      <td>SZA</td>\n",
       "    </tr>\n",
       "    <tr>\n",
       "      <th>2</th>\n",
       "      <td>Last Night</td>\n",
       "      <td>Morgan Wallen</td>\n",
       "    </tr>\n",
       "    <tr>\n",
       "      <th>3</th>\n",
       "      <td>Unholy</td>\n",
       "      <td>Sam Smith &amp; Kim Petras</td>\n",
       "    </tr>\n",
       "    <tr>\n",
       "      <th>4</th>\n",
       "      <td>Creepin'</td>\n",
       "      <td>Metro Boomin, The Weeknd &amp; 21 Savage</td>\n",
       "    </tr>\n",
       "    <tr>\n",
       "      <th>...</th>\n",
       "      <td>...</td>\n",
       "      <td>...</td>\n",
       "    </tr>\n",
       "    <tr>\n",
       "      <th>95</th>\n",
       "      <td>Yandel 150</td>\n",
       "      <td>Yandel &amp; Feid</td>\n",
       "    </tr>\n",
       "    <tr>\n",
       "      <th>96</th>\n",
       "      <td>Heart To Heart</td>\n",
       "      <td>Mac DeMarco</td>\n",
       "    </tr>\n",
       "    <tr>\n",
       "      <th>97</th>\n",
       "      <td>Next Thing You Know</td>\n",
       "      <td>Jordan Davis</td>\n",
       "    </tr>\n",
       "    <tr>\n",
       "      <th>98</th>\n",
       "      <td>Never Gonna Not Dance Again</td>\n",
       "      <td>P!nk</td>\n",
       "    </tr>\n",
       "    <tr>\n",
       "      <th>99</th>\n",
       "      <td>Open Arms</td>\n",
       "      <td>SZA Featuring Travis Scott</td>\n",
       "    </tr>\n",
       "  </tbody>\n",
       "</table>\n",
       "<p>100 rows × 2 columns</p>\n",
       "</div>"
      ],
      "text/plain": [
       "                    Song’s name                         Song’s artist\n",
       "0                       Flowers                           Miley Cyrus\n",
       "1                     Kill Bill                                   SZA\n",
       "2                    Last Night                         Morgan Wallen\n",
       "3                        Unholy                Sam Smith & Kim Petras\n",
       "4                      Creepin'  Metro Boomin, The Weeknd & 21 Savage\n",
       "..                          ...                                   ...\n",
       "95                   Yandel 150                         Yandel & Feid\n",
       "96               Heart To Heart                           Mac DeMarco\n",
       "97          Next Thing You Know                          Jordan Davis\n",
       "98  Never Gonna Not Dance Again                                  P!nk\n",
       "99                    Open Arms            SZA Featuring Travis Scott\n",
       "\n",
       "[100 rows x 2 columns]"
      ]
     },
     "execution_count": 66,
     "metadata": {},
     "output_type": "execute_result"
    }
   ],
   "source": [
    "df"
   ]
  },
  {
   "cell_type": "code",
   "execution_count": 67,
   "id": "d2d7f7d4",
   "metadata": {},
   "outputs": [],
   "source": [
    "song_list = list(df['Song’s name'])"
   ]
  },
  {
   "cell_type": "code",
   "execution_count": 68,
   "id": "100338cb",
   "metadata": {},
   "outputs": [],
   "source": [
    "song_list = [i.lower() for i in song_list]"
   ]
  },
  {
   "cell_type": "code",
   "execution_count": 69,
   "id": "627f669d",
   "metadata": {},
   "outputs": [
    {
     "data": {
      "text/plain": [
       "['flowers',\n",
       " 'kill bill',\n",
       " 'last night',\n",
       " 'unholy',\n",
       " \"creepin'\",\n",
       " 'cuff it',\n",
       " 'anti-hero',\n",
       " 'die for you',\n",
       " \"i'm good (blue)\",\n",
       " 'as it was',\n",
       " 'rich flex',\n",
       " 'just wanna rock',\n",
       " 'thought you should know',\n",
       " \"boy's a liar, pt. 2\",\n",
       " 'made you look',\n",
       " 'under the influence',\n",
       " 'golden hour',\n",
       " 'you proof',\n",
       " 'rock and a hard place',\n",
       " 'something in the orange',\n",
       " 'thank god',\n",
       " 'bad habit',\n",
       " 'going, going, gone',\n",
       " 'escapism',\n",
       " 'superhero (heroes & villains)',\n",
       " 'lavender haze',\n",
       " 'calm down',\n",
       " 'players',\n",
       " 'shirt',\n",
       " 'sure thing',\n",
       " 'the kind of love we make',\n",
       " 'heart like a truck',\n",
       " 'bzrp music sessions, vol. 53',\n",
       " 'snooze',\n",
       " 'until i found you',\n",
       " 'wait for u',\n",
       " 'i like you (a happier song)',\n",
       " 'i wrote the book',\n",
       " 'bebe dame',\n",
       " 'tomorrow 2',\n",
       " 'about damn time',\n",
       " 'wait in the truck',\n",
       " 'she had me at heads carolina',\n",
       " 'nobody gets me',\n",
       " 'what my world spins around',\n",
       " 'unstoppable',\n",
       " 'one thing at a time',\n",
       " 'whiskey on you',\n",
       " 'dawns',\n",
       " 'love again',\n",
       " 'everything i love',\n",
       " 'lift me up',\n",
       " 'que vuelvas',\n",
       " 'low',\n",
       " 'tennessee orange',\n",
       " 'x si volvemos',\n",
       " 'bloody mary',\n",
       " 'handle on you',\n",
       " \"what he didn't do\",\n",
       " 'freestyle',\n",
       " 'wild as her',\n",
       " 'spin bout u',\n",
       " \"you didn't\",\n",
       " \"growin' up and gettin' old\",\n",
       " 'nonsense',\n",
       " 'here with me',\n",
       " 'the color violet',\n",
       " 'amg',\n",
       " '10:35',\n",
       " 'la bachata',\n",
       " 'forget me',\n",
       " 'shut up my moms calling',\n",
       " 'blind',\n",
       " 'omg',\n",
       " 'no se va',\n",
       " 'love you better',\n",
       " 'la jumpa',\n",
       " 'prc',\n",
       " \"that's what tequila does\",\n",
       " 'love language',\n",
       " 'tennessee fan',\n",
       " 'ditto',\n",
       " 'watch the world burn',\n",
       " 'human',\n",
       " 'in ha mood',\n",
       " 'back end',\n",
       " 'do it again',\n",
       " 'hey mor',\n",
       " 'too many nights',\n",
       " 'ghost in the machine',\n",
       " 'fin de semana',\n",
       " 'snap',\n",
       " 'california breeze',\n",
       " \"i'm not here to make friends\",\n",
       " 'gato de noche',\n",
       " 'yandel 150',\n",
       " 'heart to heart',\n",
       " 'next thing you know',\n",
       " 'never gonna not dance again',\n",
       " 'open arms']"
      ]
     },
     "execution_count": 69,
     "metadata": {},
     "output_type": "execute_result"
    }
   ],
   "source": [
    "song_list"
   ]
  },
  {
   "cell_type": "code",
   "execution_count": 58,
   "id": "12d5d306",
   "metadata": {},
   "outputs": [],
   "source": [
    "def user_choice(df):\n",
    "    song_list = list(df['Song’s name'])\n",
    "    song_list = [i.lower() for i in song_list]\n",
    "    while True:\n",
    "        user_input = input('Enter your choice of music: ')\n",
    "        if (user_input.lower() not in song_list):\n",
    "            print('***************************************************************')\n",
    "            print('Your choice of song is not in the top 100 hit, try another song')\n",
    "            print('***************************************************************')\n",
    "        else:\n",
    "            return user_input.title()"
   ]
  },
  {
   "cell_type": "code",
   "execution_count": 59,
   "id": "8929b678",
   "metadata": {},
   "outputs": [
    {
     "name": "stdout",
     "output_type": "stream",
     "text": [
      "Enter your choice of music: snap\n"
     ]
    },
    {
     "data": {
      "text/plain": [
       "'Snap'"
      ]
     },
     "execution_count": 59,
     "metadata": {},
     "output_type": "execute_result"
    }
   ],
   "source": [
    "user_choice(df)"
   ]
  },
  {
   "cell_type": "code",
   "execution_count": 70,
   "id": "8a99cdcb",
   "metadata": {},
   "outputs": [],
   "source": [
    "import random"
   ]
  },
  {
   "cell_type": "code",
   "execution_count": 73,
   "id": "69dd274e",
   "metadata": {},
   "outputs": [],
   "source": [
    "def user_choice(df):\n",
    "    song_list = list(df['Song’s name'])\n",
    "    song_list = [i.lower() for i in song_list]\n",
    "    while True:\n",
    "        user_input = input('Enter your choice of music: ')\n",
    "        if (user_input.lower() not in song_list):\n",
    "            print('***************************************************************')\n",
    "            print('Your choice of song is not in the top 100 hit, try another song')\n",
    "            print('***************************************************************')\n",
    "        else:\n",
    "            if song_list.count(user_input) > 1:\n",
    "                user_input2 = input('more than 1 song has same title, Enter artist name to be specific')\n",
    "            return random.sample(song_list, k=1)"
   ]
  },
  {
   "cell_type": "code",
   "execution_count": 74,
   "id": "df579e55",
   "metadata": {},
   "outputs": [
    {
     "name": "stdout",
     "output_type": "stream",
     "text": [
      "Enter your choice of music: snap\n"
     ]
    },
    {
     "data": {
      "text/plain": [
       "['shirt']"
      ]
     },
     "execution_count": 74,
     "metadata": {},
     "output_type": "execute_result"
    }
   ],
   "source": [
    "user_choice(df)"
   ]
  },
  {
   "cell_type": "code",
   "execution_count": null,
   "id": "47be94d8",
   "metadata": {},
   "outputs": [],
   "source": []
  },
  {
   "cell_type": "code",
   "execution_count": null,
   "id": "4b1cd06a",
   "metadata": {},
   "outputs": [],
   "source": [
    "def user_choice(df):\n",
    "    song_list = list(df['Song’s name'])\n",
    "    song_list = [i.lower() for i in song_list]\n",
    "    while True:\n",
    "        user_input = input('Enter your choice of music: ')\n",
    "        if (user_input.lower() not in song_list):\n",
    "            print('***************************************************************')\n",
    "            print('Your choice of song is not in the top 100 hit, try another song')\n",
    "            print('***************************************************************')\n",
    "        else:\n",
    "            choice = df.loc[(df[\"Song’s name\"] == user_input), [\"Song’s artist\"]]\n",
    "            choice = choice[\"Song's artist\"].tolist()\n",
    "            choice = \n",
    "            if song_list.count(user_input) > 1:\n",
    "                user_input2 = input('more than 1 song has same title, Enter artist name to be specific')\n",
    "            return random.sample(song_list, k=1)"
   ]
  },
  {
   "cell_type": "code",
   "execution_count": null,
   "id": "f582117c",
   "metadata": {},
   "outputs": [],
   "source": []
  },
  {
   "cell_type": "code",
   "execution_count": null,
   "id": "4bd54834",
   "metadata": {},
   "outputs": [],
   "source": [
    "def ask_input_title(df):\n",
    "    list_of_songs = list(df['title'].unique())\n",
    "    list_of_songs = [x.lower() for x in list_of_songs]\n",
    "    while True:\n",
    "        prompt = input(f'enter a song title of the Top100: ')\n",
    "        if (prompt.lower() not in list_of_songs):\n",
    "            print(f'Your choice is not in the Top100. Try another one :)')\n",
    "        else:\n",
    "            options = df.loc[(df['title'] == prompt.title()),['artist']]\n",
    "            options = options['artist'].tolist()\n",
    "            options = [x.lower() for x in options]\n",
    "            clarification = input(f' Your song might be in the list. Please state which artist you are referring to:')\n",
    "            if (clarification.lower() not in options):\n",
    "                print(f' Your combination of song title {prompt.title()} and artist {clarification.title()} is not in the Top 100')\n",
    "                break\n",
    "            else:\n",
    "                print('Your Song is in the Top100 List :)')\n",
    "                return prompt.title()"
   ]
  },
  {
   "cell_type": "code",
   "execution_count": null,
   "id": "3f6d91cd",
   "metadata": {},
   "outputs": [],
   "source": []
  },
  {
   "cell_type": "code",
   "execution_count": null,
   "id": "0ab9841c",
   "metadata": {},
   "outputs": [],
   "source": []
  },
  {
   "cell_type": "code",
   "execution_count": null,
   "id": "d84771ad",
   "metadata": {},
   "outputs": [],
   "source": []
  },
  {
   "cell_type": "code",
   "execution_count": null,
   "id": "a8fd3155",
   "metadata": {},
   "outputs": [],
   "source": [
    "options = df.loc[(df['title'] == prompt.title()),['artist']]\n",
    "            options = options['artist'].tolist()\n",
    "            options = [x.lower() for x in options]\n",
    "            clarification = input(f' Your song might be in the list. Please state which artist you are referring to:')\n",
    "            if (clarification.lower() not in options):\n",
    "                print(f' Your combination of song title {prompt.title()} and artist {clarification.title()} is not in the Top 100')\n",
    "                break\n",
    "            else:\n",
    "                print('Your Song is in the Top100 List :)')\n",
    "                return prompt.title()"
   ]
  },
  {
   "cell_type": "code",
   "execution_count": null,
   "id": "0145b8ea",
   "metadata": {},
   "outputs": [],
   "source": []
  },
  {
   "cell_type": "code",
   "execution_count": null,
   "id": "a0ba77ac",
   "metadata": {},
   "outputs": [],
   "source": []
  },
  {
   "cell_type": "code",
   "execution_count": null,
   "id": "6752d70d",
   "metadata": {},
   "outputs": [],
   "source": []
  },
  {
   "cell_type": "code",
   "execution_count": null,
   "id": "64d18008",
   "metadata": {},
   "outputs": [],
   "source": [
    "def user_choice(df):\n",
    "    song_list = list(df['Song’s name'])\n",
    "    song_list = [i.lower() for i in song_list]\n",
    "    sample = random.sample(song_list, k=1)\n",
    "    p = list(df.index.values)\n",
    "    \n",
    "    while True:\n",
    "        user_input = input('Enter your choice of music: ')\n",
    "        if (user_input.lower() not in song_list):\n",
    "            print('***************************************************************')\n",
    "            print('Your choice of song is not in the top 100 hit, try another song')\n",
    "            print('***************************************************************')\n",
    "        else:\n",
    "            if song_list.count(user_input) > 1:\n",
    "                user_input2 = input('more than 1 song has same title, Enter artist name to be specific: ')\n",
    "            return sample\n",
    "            return \n",
    "        "
   ]
  },
  {
   "cell_type": "code",
   "execution_count": null,
   "id": "1216370b",
   "metadata": {},
   "outputs": [],
   "source": []
  },
  {
   "cell_type": "code",
   "execution_count": null,
   "id": "92cb6b9a",
   "metadata": {},
   "outputs": [],
   "source": []
  },
  {
   "cell_type": "code",
   "execution_count": null,
   "id": "3f4ac915",
   "metadata": {},
   "outputs": [],
   "source": [
    "def user_choice(df):\n",
    "    while True:\n",
    "        user_input = input('Enter your choice of music: ')\n",
    "        if (user_input.lower() not in df['Song’s name']):\n",
    "            print('***************************************************************')\n",
    "            print('Your choice of song is not in the top 100 hit, try another song')\n",
    "            print('***************************************************************')\n",
    "        elif:\n",
    "            if song_list.count(user_input) > 1:\n",
    "                user_input2 = input('more than 1 song has same title, Enter artist name to be specific')\n",
    "            return user_input.title()"
   ]
  },
  {
   "cell_type": "code",
   "execution_count": null,
   "id": "2bbe7c27",
   "metadata": {},
   "outputs": [],
   "source": [
    "def user_choice(df):\n",
    "    \n",
    "    song_list = list(df['Song’s name'])\n",
    "    song_list = [i.lower() for i in song_list]\n",
    "    p = list(df.index.values)\n",
    "    \n",
    "    while True:\n",
    "        user_input = input('Enter your choice of music: ')\n",
    "        if (user_input.lower() not in song_list):\n",
    "            print('***************************************************************')\n",
    "            print('Your choice of song is not in the top 100 hit, try another song')\n",
    "            print('***************************************************************')\n",
    "        else:\n",
    "            if song_list.count(user_input) > 1:\n",
    "                for i in p:\n",
    "                    print(user_input[i]+str(i)+df['Song’s artist'][i])\n",
    "                    option = input(f'choose one of the artist{i}')\n",
    "                \n",
    "                \n",
    "                \n",
    "                user_input2 = input('more than 1 song has same title, Enter artist name to be specific')\n",
    "                if user_input2.lower()\n",
    "            return user_input.title()"
   ]
  },
  {
   "cell_type": "code",
   "execution_count": null,
   "id": "4b8b2757",
   "metadata": {},
   "outputs": [],
   "source": []
  },
  {
   "cell_type": "code",
   "execution_count": 60,
   "id": "66632cad",
   "metadata": {},
   "outputs": [],
   "source": [
    "def user_choice2(df):\n",
    "    \n",
    "    song_list = list(df['Song’s name'])\n",
    "    song_list = [i.lower() for i in song_list]\n",
    "    p = list(df.index.values)\n",
    "    \n",
    "    while True:\n",
    "        user_input = input('Enter your choice of music: ')\n",
    "        if (user_input.lower() not in song_list):\n",
    "            print('***************************************************************')\n",
    "            print('Your choice of song is not in the top 100 hit, try another song')\n",
    "            print('***************************************************************')\n",
    "        else:\n",
    "            if song_list.count(user_input) > 1:\n",
    "                for i in p:\n",
    "                    print(user_input[i]+str(i)+df['Song’s artist'][i])\n",
    "                    option = input(f'choose one of the artist{i}')\n",
    "            return user_input.title()"
   ]
  },
  {
   "cell_type": "code",
   "execution_count": null,
   "id": "989cf927",
   "metadata": {},
   "outputs": [],
   "source": []
  },
  {
   "cell_type": "code",
   "execution_count": null,
   "id": "08dff520",
   "metadata": {},
   "outputs": [],
   "source": []
  },
  {
   "cell_type": "code",
   "execution_count": null,
   "id": "42f3d0da",
   "metadata": {},
   "outputs": [],
   "source": []
  },
  {
   "cell_type": "code",
   "execution_count": null,
   "id": "12f7ed08",
   "metadata": {},
   "outputs": [],
   "source": []
  },
  {
   "cell_type": "code",
   "execution_count": 37,
   "id": "4c37bfcd",
   "metadata": {},
   "outputs": [],
   "source": [
    "p = list(df.index.values)"
   ]
  },
  {
   "cell_type": "code",
   "execution_count": 41,
   "id": "8bf2dabf",
   "metadata": {},
   "outputs": [
    {
     "data": {
      "text/plain": [
       "[0,\n",
       " 1,\n",
       " 2,\n",
       " 3,\n",
       " 4,\n",
       " 5,\n",
       " 6,\n",
       " 7,\n",
       " 8,\n",
       " 9,\n",
       " 10,\n",
       " 11,\n",
       " 12,\n",
       " 13,\n",
       " 14,\n",
       " 15,\n",
       " 16,\n",
       " 17,\n",
       " 18,\n",
       " 19,\n",
       " 20,\n",
       " 21,\n",
       " 22,\n",
       " 23,\n",
       " 24,\n",
       " 25,\n",
       " 26,\n",
       " 27,\n",
       " 28,\n",
       " 29,\n",
       " 30,\n",
       " 31,\n",
       " 32,\n",
       " 33,\n",
       " 34,\n",
       " 35,\n",
       " 36,\n",
       " 37,\n",
       " 38,\n",
       " 39,\n",
       " 40,\n",
       " 41,\n",
       " 42,\n",
       " 43,\n",
       " 44,\n",
       " 45,\n",
       " 46,\n",
       " 47,\n",
       " 48,\n",
       " 49,\n",
       " 50,\n",
       " 51,\n",
       " 52,\n",
       " 53,\n",
       " 54,\n",
       " 55,\n",
       " 56,\n",
       " 57,\n",
       " 58,\n",
       " 59,\n",
       " 60,\n",
       " 61,\n",
       " 62,\n",
       " 63,\n",
       " 64,\n",
       " 65,\n",
       " 66,\n",
       " 67,\n",
       " 68,\n",
       " 69,\n",
       " 70,\n",
       " 71,\n",
       " 72,\n",
       " 73,\n",
       " 74,\n",
       " 75,\n",
       " 76,\n",
       " 77,\n",
       " 78,\n",
       " 79,\n",
       " 80,\n",
       " 81,\n",
       " 82,\n",
       " 83,\n",
       " 84,\n",
       " 85,\n",
       " 86,\n",
       " 87,\n",
       " 88,\n",
       " 89,\n",
       " 90,\n",
       " 91,\n",
       " 92,\n",
       " 93,\n",
       " 94,\n",
       " 95,\n",
       " 96,\n",
       " 97,\n",
       " 98,\n",
       " 99]"
      ]
     },
     "execution_count": 41,
     "metadata": {},
     "output_type": "execute_result"
    }
   ],
   "source": [
    "p"
   ]
  },
  {
   "cell_type": "code",
   "execution_count": null,
   "id": "95353a00",
   "metadata": {},
   "outputs": [],
   "source": []
  },
  {
   "cell_type": "code",
   "execution_count": 29,
   "id": "d207f59b",
   "metadata": {},
   "outputs": [
    {
     "data": {
      "text/plain": [
       "1"
      ]
     },
     "execution_count": 29,
     "metadata": {},
     "output_type": "execute_result"
    }
   ],
   "source": [
    "song_list.count('snap')"
   ]
  },
  {
   "cell_type": "code",
   "execution_count": null,
   "id": "3cb5ce92",
   "metadata": {},
   "outputs": [],
   "source": []
  },
  {
   "cell_type": "code",
   "execution_count": 28,
   "id": "91ac6926",
   "metadata": {},
   "outputs": [
    {
     "data": {
      "text/plain": [
       "Flowers                        1\n",
       "Blind                          1\n",
       "Shut Up My Moms Calling        1\n",
       "Forget Me                      1\n",
       "La Bachata                     1\n",
       "                              ..\n",
       "Shirt                          1\n",
       "Players                        1\n",
       "Calm Down                      1\n",
       "I Like You (A Happier Song)    1\n",
       "Open Arms                      1\n",
       "Name: Song’s name, Length: 100, dtype: int64"
      ]
     },
     "execution_count": 28,
     "metadata": {},
     "output_type": "execute_result"
    }
   ],
   "source": [
    "df['Song’s name'].value_counts(ascending=True)"
   ]
  },
  {
   "cell_type": "code",
   "execution_count": null,
   "id": "529d38ad",
   "metadata": {},
   "outputs": [],
   "source": []
  }
 ],
 "metadata": {
  "kernelspec": {
   "display_name": "Python 3 (ipykernel)",
   "language": "python",
   "name": "python3"
  },
  "language_info": {
   "codemirror_mode": {
    "name": "ipython",
    "version": 3
   },
   "file_extension": ".py",
   "mimetype": "text/x-python",
   "name": "python",
   "nbconvert_exporter": "python",
   "pygments_lexer": "ipython3",
   "version": "3.9.13"
  }
 },
 "nbformat": 4,
 "nbformat_minor": 5
}
